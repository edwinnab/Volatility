{
 "cells": [
  {
   "cell_type": "code",
   "execution_count": null,
   "id": "a3f99238",
   "metadata": {},
   "outputs": [],
   "source": [
    "#1) Randomly generated 5000 stock price curves with drawing. μ=6%, σ=13%\n",
    "#6% is our population mean and 13% is our population standard mean"
   ]
  }
 ],
 "metadata": {
  "kernelspec": {
   "display_name": "Python 3",
   "language": "python",
   "name": "python3"
  },
  "language_info": {
   "codemirror_mode": {
    "name": "ipython",
    "version": 3
   },
   "file_extension": ".py",
   "mimetype": "text/x-python",
   "name": "python",
   "nbconvert_exporter": "python",
   "pygments_lexer": "ipython3",
   "version": "3.8.5"
  }
 },
 "nbformat": 4,
 "nbformat_minor": 5
}
